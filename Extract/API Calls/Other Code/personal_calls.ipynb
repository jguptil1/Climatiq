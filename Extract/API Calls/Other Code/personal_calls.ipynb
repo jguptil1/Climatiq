{
 "cells": [
  {
   "cell_type": "code",
   "execution_count": 1,
   "metadata": {},
   "outputs": [],
   "source": [
    "MY_API_KEY = \"ZM85KK6A7M4CG1NA7PJYP6KZVDE9\""
   ]
  },
  {
   "cell_type": "code",
   "execution_count": 2,
   "metadata": {},
   "outputs": [],
   "source": [
    "import sys\n",
    "# Delete the above line, and uncomment the below line if you are using conda\n",
    "# !conda install --yes --prefix {sys.prefix} numpy\n",
    "\n",
    "import requests\n",
    "import pprint\n",
    "import json"
   ]
  },
  {
   "cell_type": "markdown",
   "metadata": {},
   "source": [
    "Searching"
   ]
  },
  {
   "cell_type": "code",
   "execution_count": null,
   "metadata": {},
   "outputs": [],
   "source": [
    "url = \"https://beta4.api.climatiq.io/search\"\n",
    "query=\"grid mix\"\n",
    "\n",
    "query_params = {\n",
    "    # Free text query can be writen under the query string\n",
    "    \"query\": query,\n",
    "    # You can also filter on region, year, source and more\n",
    "    \"region\": \"AT\",\n",
    "    # The Climatiq emission factors are versioned.\n",
    "    # The string below means \"major version 1 compatible\", which means we stay on major version 1 of the data\n",
    "    # but get new emission factors as they are available\n",
    "    # Check out the documentation for more information about data versioning\n",
    "    \"data_version\": \"^1\",\n",
    "}\n",
    "\n",
    "# You must always specify your AUTH token in the \"Authorization\" header like this.\n",
    "authorization_headers = {\"Authorization\": f\"Bearer: {MY_API_KEY}\"}\n",
    "\n",
    "\n",
    "search_response = requests.get(url, params=query_params, headers=authorization_headers).json()\n",
    "# The search endpoint returns a lot of stuff - here are the keys\n",
    "print(search_response.keys())\n",
    "\n",
    "# The most relevant is probably the results - here are the first three results\n",
    "search_response[\"results\"][0:3]"
   ]
  },
  {
   "cell_type": "markdown",
   "metadata": {},
   "source": [
    "Tabular Format Changes"
   ]
  },
  {
   "cell_type": "code",
   "execution_count": 6,
   "metadata": {},
   "outputs": [
    {
     "data": {
      "text/html": [
       "<div>\n",
       "<style scoped>\n",
       "    .dataframe tbody tr th:only-of-type {\n",
       "        vertical-align: middle;\n",
       "    }\n",
       "\n",
       "    .dataframe tbody tr th {\n",
       "        vertical-align: top;\n",
       "    }\n",
       "\n",
       "    .dataframe thead th {\n",
       "        text-align: right;\n",
       "    }\n",
       "</style>\n",
       "<table border=\"1\" class=\"dataframe\">\n",
       "  <thead>\n",
       "    <tr style=\"text-align: right;\">\n",
       "      <th></th>\n",
       "      <th>current_page</th>\n",
       "      <th>last_page</th>\n",
       "      <th>total_results</th>\n",
       "      <th>results</th>\n",
       "      <th>possible_filters.year</th>\n",
       "      <th>possible_filters.source</th>\n",
       "      <th>possible_filters.region</th>\n",
       "      <th>possible_filters.category</th>\n",
       "      <th>possible_filters.sector</th>\n",
       "      <th>possible_filters.unit_type</th>\n",
       "      <th>possible_filters.source_lca_activity</th>\n",
       "      <th>possible_filters.access_type</th>\n",
       "      <th>possible_filters.data_quality_flags</th>\n",
       "    </tr>\n",
       "  </thead>\n",
       "  <tbody>\n",
       "    <tr>\n",
       "      <th>0</th>\n",
       "      <td>1</td>\n",
       "      <td>3</td>\n",
       "      <td>49</td>\n",
       "      <td>[{'activity_id': 'electricity-supply_grid-sour...</td>\n",
       "      <td>[2021, 2020, 2019, 2018, 2017, 2016, 2015, 201...</td>\n",
       "      <td>[{'source': 'ADEME', 'datasets': ['Base Carbon...</td>\n",
       "      <td>[{'id': 'AT', 'name': 'Austria'}]</td>\n",
       "      <td>[Electricity]</td>\n",
       "      <td>[Energy]</td>\n",
       "      <td>[Energy]</td>\n",
       "      <td>[electricity_generation, well_to_tank]</td>\n",
       "      <td>[public]</td>\n",
       "      <td>[partial_factor, notable_methodological_variance]</td>\n",
       "    </tr>\n",
       "  </tbody>\n",
       "</table>\n",
       "</div>"
      ],
      "text/plain": [
       "   current_page  last_page  total_results  \\\n",
       "0             1          3             49   \n",
       "\n",
       "                                             results  \\\n",
       "0  [{'activity_id': 'electricity-supply_grid-sour...   \n",
       "\n",
       "                               possible_filters.year  \\\n",
       "0  [2021, 2020, 2019, 2018, 2017, 2016, 2015, 201...   \n",
       "\n",
       "                             possible_filters.source  \\\n",
       "0  [{'source': 'ADEME', 'datasets': ['Base Carbon...   \n",
       "\n",
       "             possible_filters.region possible_filters.category  \\\n",
       "0  [{'id': 'AT', 'name': 'Austria'}]             [Electricity]   \n",
       "\n",
       "  possible_filters.sector possible_filters.unit_type  \\\n",
       "0                [Energy]                   [Energy]   \n",
       "\n",
       "     possible_filters.source_lca_activity possible_filters.access_type  \\\n",
       "0  [electricity_generation, well_to_tank]                     [public]   \n",
       "\n",
       "                 possible_filters.data_quality_flags  \n",
       "0  [partial_factor, notable_methodological_variance]  "
      ]
     },
     "execution_count": 6,
     "metadata": {},
     "output_type": "execute_result"
    }
   ],
   "source": [
    "import pandas as pd\n",
    "pd.set_option('display.max_columns', None)\n",
    "pd.json_normalize(search_response)"
   ]
  },
  {
   "cell_type": "markdown",
   "metadata": {},
   "source": [
    "Estimates"
   ]
  },
  {
   "cell_type": "code",
   "execution_count": 7,
   "metadata": {},
   "outputs": [
    {
     "name": "stdout",
     "output_type": "stream",
     "text": [
      "{'activity_data': {'activity_unit': 'kWh', 'activity_value': 100.0},\n",
      " 'audit_trail': 'selector',\n",
      " 'co2e': 54.586999999999996,\n",
      " 'co2e_calculation_method': 'ar5',\n",
      " 'co2e_calculation_origin': 'source',\n",
      " 'co2e_unit': 'kg',\n",
      " 'constituent_gases': {'ch4': None,\n",
      "                       'co2': 54.586999999999996,\n",
      "                       'co2e_other': None,\n",
      "                       'co2e_total': 54.586999999999996,\n",
      "                       'n2o': None},\n",
      " 'emission_factor': {'access_type': 'public',\n",
      "                     'activity_id': 'electricity-supply_grid-source_residual_mix',\n",
      "                     'category': 'Electricity',\n",
      "                     'data_quality_flags': ['partial_factor',\n",
      "                                            'notable_methodological_variance'],\n",
      "                     'id': '205cf321-ee05-46d3-aa20-b2046d96ab31',\n",
      "                     'name': 'Electricity supplied from grid - residual mix',\n",
      "                     'region': 'AT',\n",
      "                     'source': 'GHG Protocol',\n",
      "                     'source_dataset': 'GHG Emissions Calculation Tool',\n",
      "                     'source_lca_activity': 'electricity_generation',\n",
      "                     'year': 2021}}\n"
     ]
    }
   ],
   "source": [
    "# The id for the emission factor. Found via the data explorer or the search endpoint\n",
    "# In our case, we take the first activity ID from our search above\n",
    "activity_id = search_response[\"results\"][0][\"activity_id\"]\n",
    "# We have many regions with the same activity id, representing the power grid in different countries.\n",
    "# We'd like to get the power for Australia specifically, so we will need to specify a region. We do this by specifying the UN location code for the region\n",
    "# You can also see the region for different emission factors in the data explorer\n",
    "region = \"AT\"\n",
    "\n",
    "# We must also specify how much electricity generation we would like to make the estimation for.\n",
    "# In this case we will do it for 100kilowattt-hours. \n",
    "# Different emission factors have different requirement as to what units they support estimates for\n",
    "# You can see the units supported by an emission factor in the data explorer, and find more documentation about units\n",
    "# in the API documentation.\n",
    "parameters = {\n",
    "        \"energy\": 100,\n",
    "        \"energy_unit\": \"kWh\"\n",
    "    }\n",
    "\n",
    "json_body = {\n",
    "    \"emission_factor\": {\n",
    "        \"activity_id\": activity_id,\n",
    "        \"region\": region,\n",
    "        \"data_version\": \"^1\"\n",
    "        # More filters are possible here. See the full documentation for more options\n",
    "    },\n",
    "    # Specify how much energy we're estimating for\n",
    "    \"parameters\": parameters\n",
    "}\n",
    "\n",
    "# You must always specify your AUTH token in the \"Authorization\" header like this.\n",
    "authorization_headers = {\"Authorization\": f\"Bearer: {MY_API_KEY}\"}\n",
    "\n",
    "# We send a POST request to the estimate endpoint with a json body and the correct authorization headers\n",
    "response = requests.post(\"https://beta4.api.climatiq.io/estimate\", json=json_body, headers=authorization_headers)\n",
    "# The response is also json.\n",
    "pprint.pprint(response.json())\n"
   ]
  },
  {
   "cell_type": "markdown",
   "metadata": {},
   "source": [
    "Tabular Format Changes"
   ]
  },
  {
   "cell_type": "code",
   "execution_count": 8,
   "metadata": {},
   "outputs": [
    {
     "data": {
      "text/html": [
       "<div>\n",
       "<style scoped>\n",
       "    .dataframe tbody tr th:only-of-type {\n",
       "        vertical-align: middle;\n",
       "    }\n",
       "\n",
       "    .dataframe tbody tr th {\n",
       "        vertical-align: top;\n",
       "    }\n",
       "\n",
       "    .dataframe thead th {\n",
       "        text-align: right;\n",
       "    }\n",
       "</style>\n",
       "<table border=\"1\" class=\"dataframe\">\n",
       "  <thead>\n",
       "    <tr style=\"text-align: right;\">\n",
       "      <th></th>\n",
       "      <th>current_page</th>\n",
       "      <th>last_page</th>\n",
       "      <th>total_results</th>\n",
       "      <th>results</th>\n",
       "      <th>possible_filters.year</th>\n",
       "      <th>possible_filters.source</th>\n",
       "      <th>possible_filters.region</th>\n",
       "      <th>possible_filters.category</th>\n",
       "      <th>possible_filters.sector</th>\n",
       "      <th>possible_filters.unit_type</th>\n",
       "      <th>possible_filters.source_lca_activity</th>\n",
       "      <th>possible_filters.access_type</th>\n",
       "      <th>possible_filters.data_quality_flags</th>\n",
       "    </tr>\n",
       "  </thead>\n",
       "  <tbody>\n",
       "    <tr>\n",
       "      <th>0</th>\n",
       "      <td>1</td>\n",
       "      <td>3</td>\n",
       "      <td>49</td>\n",
       "      <td>[{'activity_id': 'electricity-supply_grid-sour...</td>\n",
       "      <td>[2021, 2020, 2019, 2018, 2017, 2016, 2015, 201...</td>\n",
       "      <td>[{'source': 'ADEME', 'datasets': ['Base Carbon...</td>\n",
       "      <td>[{'id': 'AT', 'name': 'Austria'}]</td>\n",
       "      <td>[Electricity]</td>\n",
       "      <td>[Energy]</td>\n",
       "      <td>[Energy]</td>\n",
       "      <td>[electricity_generation, well_to_tank]</td>\n",
       "      <td>[public]</td>\n",
       "      <td>[partial_factor, notable_methodological_variance]</td>\n",
       "    </tr>\n",
       "  </tbody>\n",
       "</table>\n",
       "</div>"
      ],
      "text/plain": [
       "   current_page  last_page  total_results  \\\n",
       "0             1          3             49   \n",
       "\n",
       "                                             results  \\\n",
       "0  [{'activity_id': 'electricity-supply_grid-sour...   \n",
       "\n",
       "                               possible_filters.year  \\\n",
       "0  [2021, 2020, 2019, 2018, 2017, 2016, 2015, 201...   \n",
       "\n",
       "                             possible_filters.source  \\\n",
       "0  [{'source': 'ADEME', 'datasets': ['Base Carbon...   \n",
       "\n",
       "             possible_filters.region possible_filters.category  \\\n",
       "0  [{'id': 'AT', 'name': 'Austria'}]             [Electricity]   \n",
       "\n",
       "  possible_filters.sector possible_filters.unit_type  \\\n",
       "0                [Energy]                   [Energy]   \n",
       "\n",
       "     possible_filters.source_lca_activity possible_filters.access_type  \\\n",
       "0  [electricity_generation, well_to_tank]                     [public]   \n",
       "\n",
       "                 possible_filters.data_quality_flags  \n",
       "0  [partial_factor, notable_methodological_variance]  "
      ]
     },
     "execution_count": 8,
     "metadata": {},
     "output_type": "execute_result"
    }
   ],
   "source": [
    "import pandas as pd\n",
    "pd.json_normalize(search_response)"
   ]
  },
  {
   "cell_type": "markdown",
   "metadata": {},
   "source": [
    "Batch Estimate"
   ]
  },
  {
   "cell_type": "code",
   "execution_count": null,
   "metadata": {},
   "outputs": [],
   "source": [
    "#activity_id = \n",
    "#region = "
   ]
  },
  {
   "cell_type": "code",
   "execution_count": null,
   "metadata": {},
   "outputs": [],
   "source": [
    "parameters = {\n",
    "        \"energy\": 100,\n",
    "        \"energy_unit\": \"kWh\"\n",
    "    }\n",
    "\n",
    "# Notice that the JSON body here is an array, with each entry being an estimate\n",
    "json_body = [\n",
    "{\n",
    "    \"emission_factor\": {\n",
    "        # Using the same activity ID and region as before\n",
    "        \"activity_id\": activity_id,\n",
    "        \"region\": region,\n",
    "        \"data_version\": \"^1\"\n",
    "    },\n",
    "    \"parameters\": {\n",
    "        \"energy\": 10,\n",
    "        \"energy_unit\": \"kWh\"\n",
    "    }\n",
    "},\n",
    "{\n",
    "    \"emission_factor\": {\n",
    "        # Using the same activity ID and region as before\n",
    "        \"activity_id\": activity_id,\n",
    "        \"region\": region,\n",
    "        \"data_version\": \"^1\"\n",
    "    },\n",
    "    \"parameters\": {\n",
    "        \"energy\": 100,\n",
    "        \"energy_unit\": \"kWh\"\n",
    "    }\n",
    "},\n",
    "{\n",
    "    \"emission_factor\": {\n",
    "        # Using the same activity ID and region as before\n",
    "        \"activity_id\": activity_id,\n",
    "        \"region\": region,\n",
    "        \"data_version\": \"^1\"\n",
    "    },\n",
    "    \"parameters\": {\n",
    "        \"energy\": 100,\n",
    "        \"energy_unit\": \"kWh\"\n",
    "    }\n",
    "},\n",
    "{\n",
    "    \"emission_factor\": {\n",
    "        # Using the same activity ID and region as before\n",
    "        \"activity_id\": activity_id,\n",
    "        \"region\": region,\n",
    "        \"data_version\": \"^1\"\n",
    "    },\n",
    "    \"parameters\": {\n",
    "        \"energy\": 100,\n",
    "        \"energy_unit\": \"kWh\"\n",
    "    }\n",
    "},\n",
    "{\n",
    "    \"emission_factor\": {\n",
    "        # Using the same activity ID and region as before\n",
    "        \"activity_id\": activity_id,\n",
    "        \"region\": region,\n",
    "        \"data_version\": \"^1\"\n",
    "    },\n",
    "    \"parameters\": {\n",
    "        \"energy\": 100,\n",
    "        \"energy_unit\": \"kWh\"\n",
    "    }\n",
    "}\n",
    "]\n",
    "\n",
    "\n",
    "# You must always specify your AUTH token in the \"Authorization\" header like this.\n",
    "authorization_headers = {\"Authorization\": f\"Bearer: {MY_API_KEY}\"}\n",
    "\n",
    "# We send a POST request to the /batch endpoint with a json body and the correct authorization headers\n",
    "response = requests.post(\"https://beta4.api.climatiq.io/batch\", json=json_body, headers=authorization_headers)\n",
    "# The response is also json.\n",
    "response_json = response.json()\n",
    "response_json"
   ]
  },
  {
   "cell_type": "markdown",
   "metadata": {},
   "source": [
    "Tabular Format Changes"
   ]
  },
  {
   "cell_type": "code",
   "execution_count": 9,
   "metadata": {},
   "outputs": [
    {
     "ename": "NameError",
     "evalue": "name 'response_json' is not defined",
     "output_type": "error",
     "traceback": [
      "\u001b[1;31m---------------------------------------------------------------------------\u001b[0m",
      "\u001b[1;31mNameError\u001b[0m                                 Traceback (most recent call last)",
      "Cell \u001b[1;32mIn[9], line 3\u001b[0m\n\u001b[0;32m      1\u001b[0m \u001b[39mimport\u001b[39;00m \u001b[39mpandas\u001b[39;00m \u001b[39mas\u001b[39;00m \u001b[39mpd\u001b[39;00m\n\u001b[0;32m      2\u001b[0m pd\u001b[39m.\u001b[39mset_option(\u001b[39m'\u001b[39m\u001b[39mdisplay.max_columns\u001b[39m\u001b[39m'\u001b[39m, \u001b[39mNone\u001b[39;00m)\n\u001b[1;32m----> 3\u001b[0m normalized_data \u001b[39m=\u001b[39m pd\u001b[39m.\u001b[39mjson_normalize(response_json[\u001b[39m'\u001b[39m\u001b[39mresults\u001b[39m\u001b[39m'\u001b[39m])\n\u001b[0;32m      4\u001b[0m normalized_data\n\u001b[0;32m      6\u001b[0m pd\u001b[39m.\u001b[39mto_datetime(\u001b[39m'\u001b[39m\u001b[39mnow\u001b[39m\u001b[39m'\u001b[39m)\n",
      "\u001b[1;31mNameError\u001b[0m: name 'response_json' is not defined"
     ]
    }
   ],
   "source": [
    "import pandas as pd\n",
    "pd.set_option('display.max_columns', None)\n",
    "normalized_data = pd.json_normalize(response_json['results'])\n",
    "normalized_data\n",
    "\n",
    "pd.to_datetime('now')"
   ]
  }
 ],
 "metadata": {
  "kernelspec": {
   "display_name": "minimal_ds",
   "language": "python",
   "name": "python3"
  },
  "language_info": {
   "codemirror_mode": {
    "name": "ipython",
    "version": 3
   },
   "file_extension": ".py",
   "mimetype": "text/x-python",
   "name": "python",
   "nbconvert_exporter": "python",
   "pygments_lexer": "ipython3",
   "version": "3.10.9"
  },
  "orig_nbformat": 4
 },
 "nbformat": 4,
 "nbformat_minor": 2
}
